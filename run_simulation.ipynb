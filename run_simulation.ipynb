{
 "cells": [
  {
   "cell_type": "code",
   "execution_count": 1,
   "metadata": {},
   "outputs": [],
   "source": [
    "import os\n",
    "import glob\n",
    "import time\n",
    "import numpy as np\n",
    "import pyprismatic as pr"
   ]
  },
  {
   "cell_type": "code",
   "execution_count": 2,
   "metadata": {},
   "outputs": [],
   "source": [
    "basename = glob.glob('W_supercell*.xyz')[0]"
   ]
  },
  {
   "cell_type": "code",
   "execution_count": 3,
   "metadata": {},
   "outputs": [],
   "source": [
    "sliceThickness = 1.58\n",
    "tileX = tileY = tileZ = 1\n",
    "E0 = 100 # in keV\n",
    "realspacePixelSizeX = realspacePixelSizeY = 0.05\n",
    "phonons = 10\n",
    "algorithm = 'prism'\n",
    "\n",
    "probeDefocus_list = np.arange(-60, 60, 20)\n",
    "probeDefocus_list = [0]\n",
    "probeStepX = probeStepY = 0.2  # in A\n",
    "probeSemiangle = 35  # in mrad\n",
    "alpha_factor = 1.1\n",
    "C3 = 1.39E5  # in angstrom\n",
    "C5 = -1.31E8  # in angstrom\n",
    "scanWindowXMin = scanWindowYMin = 0.0  # fractional coordinates\n",
    "scanWindowXMax = scanWindowYMax = 0.9999  # fractional coordinates\n",
    "interpolationFactor = 2"
   ]
  },
  {
   "cell_type": "code",
   "execution_count": null,
   "metadata": {},
   "outputs": [],
   "source": [
    "for probeDefocus in probeDefocus_list:\n",
    "    filenameAtoms = f\"{basename}\"\n",
    "    base_name = f\"{basename}-def{probeDefocus}-TDS{phonons}\"\n",
    "    interpolationFactorX = interpolationFactorY = interpolationFactor\n",
    "    alphaBeamMax = probeSemiangle * alpha_factor\n",
    "    if algorithm == 'prism':\n",
    "        base_name = f\"{base_name}-{algorithm}{interpolationFactor}\"\n",
    "    includeThermalEffects = False if phonons == 0 else True\n",
    "    filenameOutput = f\"{base_name}.emd\"\n",
    "\n",
    "    meta = pr.Metadata(\n",
    "        interpolationFactorX=interpolationFactorX,\n",
    "        interpolationFactorY=interpolationFactorY,\n",
    "        filenameAtoms=filenameAtoms,\n",
    "        filenameOutput=filenameOutput,\n",
    "        realspacePixelSizeX=realspacePixelSizeX,\n",
    "        realspacePixelSizeY=realspacePixelSizeY,\n",
    "        sliceThickness=sliceThickness,\n",
    "        potBound=2,\n",
    "        numFP=phonons if includeThermalEffects else 1,\n",
    "        tileX=tileX,\n",
    "        tileY=tileY,\n",
    "        tileZ=tileZ,\n",
    "        E0=E0,\n",
    "        alphaBeamMax=alphaBeamMax,\n",
    "        probeStepX=probeStepX,\n",
    "        probeStepY=probeStepY,\n",
    "        probeDefocus=probeDefocus,\n",
    "        C3=C3,\n",
    "        C5=C5,\n",
    "        probeSemiangle=probeSemiangle,\n",
    "        detectorAngleStep=1,\n",
    "        probeXtilt=0,\n",
    "        probeYtilt=0,\n",
    "        scanWindowXMin=scanWindowXMin,\n",
    "        scanWindowYMin=scanWindowYMin,\n",
    "        scanWindowXMax=scanWindowXMax,\n",
    "        scanWindowYMax=scanWindowYMax,\n",
    "        randomSeed=13550,\n",
    "        algorithm=algorithm,\n",
    "        includeThermalEffects=includeThermalEffects,\n",
    "        alsoDoCPUWork=True,\n",
    "        save2DOutput=False,\n",
    "        save3DOutput=True,\n",
    "        save4DOutput=False,\n",
    "        saveDPC_CoM=False,\n",
    "        savePotentialSlices=False,\n",
    "        integrationAngleMin=60,\n",
    "        integrationAngleMax=120,\n",
    "        numThreads=30,\n",
    "        batchSizeTargetCPU=1,\n",
    "        batchSizeTargetGPU=2,\n",
    "        numStreamsPerGPU=3,\n",
    "    )\n",
    "    meta.writeParameters(f\"{base_name}.txt\")\n",
    "    start = time.time()\n",
    "    meta.go()\n",
    "    end = time.time()\n",
    "    formatted_time = time.strftime(\"%H:%M:%S\", time.gmtime(end-start))\n",
    "    total_time = f\"The simulation time of {filenameOutput} was: {formatted_time} ({end-start:6g} s)\"\n",
    "    print(total_time)\n",
    "    with open(f\"{base_name}-timing.txt\", 'w') as f:\n",
    "        f.write(total_time)"
   ]
  },
  {
   "cell_type": "code",
   "execution_count": null,
   "metadata": {},
   "outputs": [],
   "source": []
  }
 ],
 "metadata": {
  "kernelspec": {
   "display_name": "Python [conda env:prismatic]",
   "language": "python",
   "name": "conda-env-prismatic-py"
  },
  "language_info": {
   "codemirror_mode": {
    "name": "ipython",
    "version": 3
   },
   "file_extension": ".py",
   "mimetype": "text/x-python",
   "name": "python",
   "nbconvert_exporter": "python",
   "pygments_lexer": "ipython3",
   "version": "3.8.6"
  }
 },
 "nbformat": 4,
 "nbformat_minor": 4
}
