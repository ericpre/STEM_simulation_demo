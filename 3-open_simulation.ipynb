{
 "cells": [
  {
   "cell_type": "code",
   "execution_count": 1,
   "metadata": {},
   "outputs": [],
   "source": [
    "%matplotlib qt\n",
    "import os\n",
    "import glob\n",
    "import hyperspy.api as hs\n",
    "import numpy as np\n",
    "import matplotlib.pyplot as plt"
   ]
  },
  {
   "cell_type": "code",
   "execution_count": 2,
   "metadata": {},
   "outputs": [],
   "source": [
    "basename = glob.glob('W_supercell*.emd')[0]"
   ]
  },
  {
   "cell_type": "code",
   "execution_count": 3,
   "metadata": {},
   "outputs": [],
   "source": [
    "im = hs.load(basename)"
   ]
  },
  {
   "cell_type": "code",
   "execution_count": 4,
   "metadata": {},
   "outputs": [
    {
     "data": {
      "text/plain": [
       "<Signal2D, title: virtual_detector, dimensions: (185|80, 80)>"
      ]
     },
     "execution_count": 4,
     "metadata": {},
     "output_type": "execute_result"
    }
   ],
   "source": [
    "im"
   ]
  },
  {
   "cell_type": "code",
   "execution_count": 5,
   "metadata": {},
   "outputs": [],
   "source": [
    "im.plot(navigator='spectrum')"
   ]
  },
  {
   "cell_type": "code",
   "execution_count": 11,
   "metadata": {},
   "outputs": [],
   "source": [
    "roi = hs.roi.SpanROI(0.07, 0.140)\n",
    "sliced_signal = roi.interactive(im)"
   ]
  },
  {
   "cell_type": "code",
   "execution_count": 12,
   "metadata": {},
   "outputs": [],
   "source": [
    "axis = 0\n",
    "out = sliced_signal.sum(axis=axis)\n",
    "hs.interactive(sliced_signal.sum,\n",
    "               axis=axis,\n",
    "               recompute_out_event=None,\n",
    "               out=out)\n",
    "out.plot(navigator='slider')"
   ]
  },
  {
   "cell_type": "markdown",
   "metadata": {},
   "source": [
    "Take a HAADF image"
   ]
  },
  {
   "cell_type": "code",
   "execution_count": null,
   "metadata": {},
   "outputs": [],
   "source": [
    "from scipy.ndimage import gaussian_filter\n",
    "gaussian_sigma = 1.2\n",
    "ima_gaussian_filtered = im.map(gaussian_filter, inplace=False, sigma=gaussian_sigma)"
   ]
  },
  {
   "cell_type": "code",
   "execution_count": null,
   "metadata": {},
   "outputs": [],
   "source": [
    "ima_gaussian_filtered.save(f'{base_name}-gaussian{gaussian_sigma}.hspy')"
   ]
  },
  {
   "cell_type": "code",
   "execution_count": null,
   "metadata": {},
   "outputs": [],
   "source": [
    "ima_gaussian_filtered.plot(navigator='spectrum')"
   ]
  },
  {
   "cell_type": "code",
   "execution_count": null,
   "metadata": {},
   "outputs": [],
   "source": [
    "roi.left = 0.070\n",
    "roi.right = 0.140"
   ]
  },
  {
   "cell_type": "code",
   "execution_count": null,
   "metadata": {},
   "outputs": [],
   "source": [
    "HAADF_im = roi(im).sum(0)\n",
    "HAADF_im.metadata.General.title = f'HAADF ({roi.left}-{roi.right} rad)'"
   ]
  },
  {
   "cell_type": "code",
   "execution_count": null,
   "metadata": {},
   "outputs": [],
   "source": [
    "HAADF_im.save(f'{base_name}-HAADF({roi.left}-{roi.right}rad).hspy')"
   ]
  },
  {
   "cell_type": "code",
   "execution_count": null,
   "metadata": {},
   "outputs": [],
   "source": [
    "HAADF_im.plot()"
   ]
  },
  {
   "cell_type": "markdown",
   "metadata": {},
   "source": [
    "Apply a Gaussian filter to model the probe size"
   ]
  },
  {
   "cell_type": "code",
   "execution_count": null,
   "metadata": {},
   "outputs": [],
   "source": [
    "from scipy.ndimage import gaussian_filter\n",
    "gaussian_sigma = 1.2\n",
    "HAADF_im_gaussian_filtered = HAADF_im.map(gaussian_filter, inplace=False, sigma=gaussian_sigma)\n",
    "HAADF_im_gaussian_filtered.metadata.General.title = f'{HAADF_im.metadata.General.title} Gaussian {gaussian_sigma}'"
   ]
  },
  {
   "cell_type": "code",
   "execution_count": null,
   "metadata": {},
   "outputs": [],
   "source": [
    "HAADF_im_gaussian_filtered.save(f'{base_name}-HAADF({roi.left}-{roi.right}rad)-gaussian{gaussian_sigma}.hspy')"
   ]
  },
  {
   "cell_type": "code",
   "execution_count": null,
   "metadata": {},
   "outputs": [],
   "source": [
    "HAADF_im_gaussian_filtered.plot()"
   ]
  },
  {
   "cell_type": "code",
   "execution_count": null,
   "metadata": {},
   "outputs": [],
   "source": [
    "labels = HAADF_im_gaussian_filtered.axes_manager[0].axis\n",
    "labels = [f\"{label:.2g}\" for label in labels]"
   ]
  },
  {
   "cell_type": "code",
   "execution_count": null,
   "metadata": {},
   "outputs": [],
   "source": [
    "signal = HAADF_im\n",
    "title = signal.metadata.General.title\n",
    "hs.plot.plot_images(signal, axes_decor='off',\n",
    "                    label=labels, colorbar='single', per_row=4,\n",
    "                    suptitle=title)\n",
    "plt.savefig(f'{base_name}-{title}.png')"
   ]
  },
  {
   "cell_type": "code",
   "execution_count": null,
   "metadata": {},
   "outputs": [],
   "source": [
    "signal = HAADF_im_gaussian_filtered\n",
    "title = signal.metadata.General.title\n",
    "hs.plot.plot_images(signal, axes_decor='off',\n",
    "                    label=labels, colorbar='single', per_row=4,\n",
    "                    suptitle=title)\n",
    "plt.savefig(f'{base_name}-{title}.png')"
   ]
  }
 ],
 "metadata": {
  "kernelspec": {
   "display_name": "Python 3",
   "language": "python",
   "name": "python3"
  },
  "language_info": {
   "codemirror_mode": {
    "name": "ipython",
    "version": 3
   },
   "file_extension": ".py",
   "mimetype": "text/x-python",
   "name": "python",
   "nbconvert_exporter": "python",
   "pygments_lexer": "ipython3",
   "version": "3.8.6"
  }
 },
 "nbformat": 4,
 "nbformat_minor": 4
}
